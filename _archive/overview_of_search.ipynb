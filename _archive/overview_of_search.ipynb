{
 "cells": [
  {
   "cell_type": "markdown",
   "metadata": {
    "id": "CWgIO442deb4"
   },
   "source": [
    "# creating search engine"
   ]
  },
  {
   "cell_type": "code",
   "execution_count": 93,
   "metadata": {
    "id": "RBXVOmHPU7BZ"
   },
   "outputs": [
    {
     "name": "stdout",
     "output_type": "stream",
     "text": [
      "Requirement already satisfied: nmslib in /Users/veena/opt/anaconda3/lib/python3.8/site-packages (2.1.1)\r\n",
      "Requirement already satisfied: pybind11<2.6.2 in /Users/veena/opt/anaconda3/lib/python3.8/site-packages (from nmslib) (2.6.1)\r\n",
      "Requirement already satisfied: psutil in /Users/veena/opt/anaconda3/lib/python3.8/site-packages (from nmslib) (5.7.2)\r\n",
      "Requirement already satisfied: numpy>=1.10.0 in /Users/veena/opt/anaconda3/lib/python3.8/site-packages (from nmslib) (1.19.2)\r\n"
     ]
    },
    {
     "name": "stderr",
     "output_type": "stream",
     "text": [
      "<ipython-input-93-9c818b3af214>:17: FutureWarning: Passing a negative integer is deprecated in version 1.0 and will not be supported in future version. Instead, use None to not limit the column width.\n",
      "  pd.set_option('display.max_colwidth', -1)\n"
     ]
    }
   ],
   "source": [
    "import os\n",
    "import pandas as pd\n",
    "import numpy as np\n",
    "import pickle\n",
    "import spacy\n",
    "from tqdm import tqdm\n",
    "import matplotlib.pyplot as plt\n",
    "from gensim.models.fasttext import FastText\n",
    "!pip install rank_bm25 --quiet #install BM25\n",
    "!pip install --no-binary :all: nmslib #install nmslib\n",
    "from rank_bm25 import BM25Okapi\n",
    "import nmslib\n",
    "import time\n",
    "\n",
    "import utils\n",
    "# drive.mount('/content/drive') # if you want to use G Drive\n",
    "pd.set_option('display.max_colwidth', -1)\n",
    "plt.style.use('fivethirtyeight')\n"
   ]
  },
  {
   "cell_type": "code",
   "execution_count": 6,
   "metadata": {},
   "outputs": [
    {
     "name": "stdout",
     "output_type": "stream",
     "text": [
      "Requirement already satisfied: gensim in /Users/veena/opt/anaconda3/lib/python3.8/site-packages (4.0.1)\n",
      "Requirement already satisfied: scipy>=0.18.1 in /Users/veena/opt/anaconda3/lib/python3.8/site-packages (from gensim) (1.5.2)\n",
      "Requirement already satisfied: numpy>=1.11.3 in /Users/veena/opt/anaconda3/lib/python3.8/site-packages (from gensim) (1.19.2)\n",
      "Requirement already satisfied: smart-open>=1.8.1 in /Users/veena/opt/anaconda3/lib/python3.8/site-packages (from gensim) (3.0.0)\n",
      "Requirement already satisfied: requests in /Users/veena/opt/anaconda3/lib/python3.8/site-packages (from smart-open>=1.8.1->gensim) (2.25.1)\n",
      "Requirement already satisfied: certifi>=2017.4.17 in /Users/veena/opt/anaconda3/lib/python3.8/site-packages (from requests->smart-open>=1.8.1->gensim) (2020.6.20)\n",
      "Requirement already satisfied: idna<3,>=2.5 in /Users/veena/opt/anaconda3/lib/python3.8/site-packages (from requests->smart-open>=1.8.1->gensim) (2.10)\n",
      "Requirement already satisfied: chardet<5,>=3.0.2 in /Users/veena/opt/anaconda3/lib/python3.8/site-packages (from requests->smart-open>=1.8.1->gensim) (3.0.4)\n",
      "Requirement already satisfied: urllib3<1.27,>=1.21.1 in /Users/veena/opt/anaconda3/lib/python3.8/site-packages (from requests->smart-open>=1.8.1->gensim) (1.25.11)\n",
      "Note: you may need to restart the kernel to use updated packages.\n"
     ]
    }
   ],
   "source": [
    "pip install gensim"
   ]
  },
  {
   "cell_type": "markdown",
   "metadata": {
    "id": "F6F6jJqPA4Wm"
   },
   "source": [
    "### Load data and create DF"
   ]
  },
  {
   "cell_type": "code",
   "execution_count": 2,
   "metadata": {},
   "outputs": [
    {
     "data": {
      "text/html": [
       "<div>\n",
       "<style scoped>\n",
       "    .dataframe tbody tr th:only-of-type {\n",
       "        vertical-align: middle;\n",
       "    }\n",
       "\n",
       "    .dataframe tbody tr th {\n",
       "        vertical-align: top;\n",
       "    }\n",
       "\n",
       "    .dataframe thead th {\n",
       "        text-align: right;\n",
       "    }\n",
       "</style>\n",
       "<table border=\"1\" class=\"dataframe\">\n",
       "  <thead>\n",
       "    <tr style=\"text-align: right;\">\n",
       "      <th></th>\n",
       "      <th>Unnamed: 0</th>\n",
       "      <th>authors</th>\n",
       "      <th>title</th>\n",
       "      <th>categories</th>\n",
       "      <th>abstract</th>\n",
       "      <th>update_date</th>\n",
       "      <th>month</th>\n",
       "      <th>year</th>\n",
       "    </tr>\n",
       "  </thead>\n",
       "  <tbody>\n",
       "    <tr>\n",
       "      <th>0</th>\n",
       "      <td>0</td>\n",
       "      <td>C. Bal\\'azs, E. L. Berger, P. M. Nadolsky, C.-P. Yuan</td>\n",
       "      <td>Calculation of prompt diphoton production cross sections at Tevatron and\\n  LHC energies</td>\n",
       "      <td>High Energy Physics - Phenomenology</td>\n",
       "      <td>A fully differential calculation in perturbative quantum chromodynamics is\\npresented for the production of massive photon pairs at hadron colliders. All\\nnext-to-leading order perturbative contributions from quark-antiquark,\\ngluon-(anti)quark, and gluon-gluon subprocesses are included, as well as\\nall-orders resummation of initial-state gluon radiation valid at\\nnext-to-next-to-leading logarithmic accuracy. The region of phase space is\\nspecified in which the calculation is most reliable. Good agreement is\\ndemonstrated with data from the Fermilab Tevatron, and predictions are made for\\nmore detailed tests with CDF and DO data. Predictions are shown for\\ndistributions of diphoton pairs produced at the energy of the Large Hadron\\nCollider (LHC). Distributions of the diphoton pairs from the decay of a Higgs\\nboson are contrasted with those produced from QCD processes at the LHC, showing\\nthat enhanced sensitivity to the signal can be obtained with judicious\\nselection of events.\\n</td>\n",
       "      <td>2008-11-26</td>\n",
       "      <td>november</td>\n",
       "      <td>2008</td>\n",
       "    </tr>\n",
       "    <tr>\n",
       "      <th>1</th>\n",
       "      <td>1</td>\n",
       "      <td>Ileana Streinu and Louis Theran</td>\n",
       "      <td>Sparsity-certifying Graph Decompositions</td>\n",
       "      <td>NaN</td>\n",
       "      <td>We describe a new algorithm, the $(k,\\ell)$-pebble game with colors, and use\\nit obtain a characterization of the family of $(k,\\ell)$-sparse graphs and\\nalgorithmic solutions to a family of problems concerning tree decompositions of\\ngraphs. Special instances of sparse graphs appear in rigidity theory and have\\nreceived increased attention in recent years. In particular, our colored\\npebbles generalize and strengthen the previous results of Lee and Streinu and\\ngive a new proof of the Tutte-Nash-Williams characterization of arboricity. We\\nalso present a new decomposition that certifies sparsity based on the\\n$(k,\\ell)$-pebble game with colors. Our work also exposes connections between\\npebble game algorithms and previous sparse graph algorithms by Gabow, Gabow and\\nWestermann and Hendrickson.\\n</td>\n",
       "      <td>2008-12-13</td>\n",
       "      <td>december</td>\n",
       "      <td>2008</td>\n",
       "    </tr>\n",
       "    <tr>\n",
       "      <th>2</th>\n",
       "      <td>2</td>\n",
       "      <td>Hongjun Pan</td>\n",
       "      <td>The evolution of the Earth-Moon system based on the dark matter field\\n  fluid model</td>\n",
       "      <td>General Physics</td>\n",
       "      <td>The evolution of Earth-Moon system is described by the dark matter field\\nfluid model proposed in the Meeting of Division of Particle and Field 2004,\\nAmerican Physical Society. The current behavior of the Earth-Moon system agrees\\nwith this model very well and the general pattern of the evolution of the\\nMoon-Earth system described by this model agrees with geological and fossil\\nevidence. The closest distance of the Moon to Earth was about 259000 km at 4.5\\nbillion years ago, which is far beyond the Roche's limit. The result suggests\\nthat the tidal friction may not be the primary cause for the evolution of the\\nEarth-Moon system. The average dark matter field fluid constant derived from\\nEarth-Moon system data is 4.39 x 10^(-22) s^(-1)m^(-1). This model predicts\\nthat the Mars's rotation is also slowing with the angular acceleration rate\\nabout -4.38 x 10^(-22) rad s^(-2).\\n</td>\n",
       "      <td>2008-01-13</td>\n",
       "      <td>january</td>\n",
       "      <td>2008</td>\n",
       "    </tr>\n",
       "    <tr>\n",
       "      <th>3</th>\n",
       "      <td>3</td>\n",
       "      <td>David Callan</td>\n",
       "      <td>A determinant of Stirling cycle numbers counts unlabeled acyclic\\n  single-source automata</td>\n",
       "      <td>Combinatorics</td>\n",
       "      <td>We show that a determinant of Stirling cycle numbers counts unlabeled acyclic\\nsingle-source automata. The proof involves a bijection from these automata to\\ncertain marked lattice paths and a sign-reversing involution to evaluate the\\ndeterminant.\\n</td>\n",
       "      <td>2007-05-23</td>\n",
       "      <td>may</td>\n",
       "      <td>2007</td>\n",
       "    </tr>\n",
       "    <tr>\n",
       "      <th>4</th>\n",
       "      <td>4</td>\n",
       "      <td>Wael Abu-Shammala and Alberto Torchinsky</td>\n",
       "      <td>From dyadic $\\Lambda_{\\alpha}$ to $\\Lambda_{\\alpha}$</td>\n",
       "      <td>NaN</td>\n",
       "      <td>In this paper we show how to compute the $\\Lambda_{\\alpha}$ norm, $\\alpha\\ge\\n0$, using the dyadic grid. This result is a consequence of the description of\\nthe Hardy spaces $H^p(R^N)$ in terms of dyadic and special atoms.\\n</td>\n",
       "      <td>2013-10-15</td>\n",
       "      <td>october</td>\n",
       "      <td>2013</td>\n",
       "    </tr>\n",
       "  </tbody>\n",
       "</table>\n",
       "</div>"
      ],
      "text/plain": [
       "   Unnamed: 0                                                authors  \\\n",
       "0  0           C. Bal\\'azs, E. L. Berger, P. M. Nadolsky, C.-P. Yuan   \n",
       "1  1           Ileana Streinu and Louis Theran                         \n",
       "2  2           Hongjun Pan                                             \n",
       "3  3           David Callan                                            \n",
       "4  4           Wael Abu-Shammala and Alberto Torchinsky                \n",
       "\n",
       "                                                                                        title  \\\n",
       "0  Calculation of prompt diphoton production cross sections at Tevatron and\\n  LHC energies     \n",
       "1  Sparsity-certifying Graph Decompositions                                                     \n",
       "2  The evolution of the Earth-Moon system based on the dark matter field\\n  fluid model         \n",
       "3  A determinant of Stirling cycle numbers counts unlabeled acyclic\\n  single-source automata   \n",
       "4  From dyadic $\\Lambda_{\\alpha}$ to $\\Lambda_{\\alpha}$                                         \n",
       "\n",
       "                            categories  \\\n",
       "0  High Energy Physics - Phenomenology   \n",
       "1  NaN                                   \n",
       "2  General Physics                       \n",
       "3  Combinatorics                         \n",
       "4  NaN                                   \n",
       "\n",
       "                                                                                                                                                                                                                                                                                                                                                                                                                                                                                                                                                                                                                                                                                                                                                                                                                                                                                                                                                                                                                                abstract  \\\n",
       "0    A fully differential calculation in perturbative quantum chromodynamics is\\npresented for the production of massive photon pairs at hadron colliders. All\\nnext-to-leading order perturbative contributions from quark-antiquark,\\ngluon-(anti)quark, and gluon-gluon subprocesses are included, as well as\\nall-orders resummation of initial-state gluon radiation valid at\\nnext-to-next-to-leading logarithmic accuracy. The region of phase space is\\nspecified in which the calculation is most reliable. Good agreement is\\ndemonstrated with data from the Fermilab Tevatron, and predictions are made for\\nmore detailed tests with CDF and DO data. Predictions are shown for\\ndistributions of diphoton pairs produced at the energy of the Large Hadron\\nCollider (LHC). Distributions of the diphoton pairs from the decay of a Higgs\\nboson are contrasted with those produced from QCD processes at the LHC, showing\\nthat enhanced sensitivity to the signal can be obtained with judicious\\nselection of events.\\n   \n",
       "1    We describe a new algorithm, the $(k,\\ell)$-pebble game with colors, and use\\nit obtain a characterization of the family of $(k,\\ell)$-sparse graphs and\\nalgorithmic solutions to a family of problems concerning tree decompositions of\\ngraphs. Special instances of sparse graphs appear in rigidity theory and have\\nreceived increased attention in recent years. In particular, our colored\\npebbles generalize and strengthen the previous results of Lee and Streinu and\\ngive a new proof of the Tutte-Nash-Williams characterization of arboricity. We\\nalso present a new decomposition that certifies sparsity based on the\\n$(k,\\ell)$-pebble game with colors. Our work also exposes connections between\\npebble game algorithms and previous sparse graph algorithms by Gabow, Gabow and\\nWestermann and Hendrickson.\\n                                                                                                                                                                                               \n",
       "2    The evolution of Earth-Moon system is described by the dark matter field\\nfluid model proposed in the Meeting of Division of Particle and Field 2004,\\nAmerican Physical Society. The current behavior of the Earth-Moon system agrees\\nwith this model very well and the general pattern of the evolution of the\\nMoon-Earth system described by this model agrees with geological and fossil\\nevidence. The closest distance of the Moon to Earth was about 259000 km at 4.5\\nbillion years ago, which is far beyond the Roche's limit. The result suggests\\nthat the tidal friction may not be the primary cause for the evolution of the\\nEarth-Moon system. The average dark matter field fluid constant derived from\\nEarth-Moon system data is 4.39 x 10^(-22) s^(-1)m^(-1). This model predicts\\nthat the Mars's rotation is also slowing with the angular acceleration rate\\nabout -4.38 x 10^(-22) rad s^(-2).\\n                                                                                                            \n",
       "3    We show that a determinant of Stirling cycle numbers counts unlabeled acyclic\\nsingle-source automata. The proof involves a bijection from these automata to\\ncertain marked lattice paths and a sign-reversing involution to evaluate the\\ndeterminant.\\n                                                                                                                                                                                                                                                                                                                                                                                                                                                                                                                                                                                                                                                                                                                                                                            \n",
       "4    In this paper we show how to compute the $\\Lambda_{\\alpha}$ norm, $\\alpha\\ge\\n0$, using the dyadic grid. This result is a consequence of the description of\\nthe Hardy spaces $H^p(R^N)$ in terms of dyadic and special atoms.\\n                                                                                                                                                                                                                                                                                                                                                                                                                                                                                                                                                                                                                                                                                                                                                                                                      \n",
       "\n",
       "  update_date     month  year  \n",
       "0  2008-11-26  november  2008  \n",
       "1  2008-12-13  december  2008  \n",
       "2  2008-01-13  january   2008  \n",
       "3  2007-05-23  may       2007  \n",
       "4  2013-10-15  october   2013  "
      ]
     },
     "execution_count": 2,
     "metadata": {},
     "output_type": "execute_result"
    }
   ],
   "source": [
    "df = pd.read_csv(\"data/arxiv_smaller.csv\")\n",
    "df.head()"
   ]
  },
  {
   "cell_type": "code",
   "execution_count": 3,
   "metadata": {},
   "outputs": [
    {
     "data": {
      "text/plain": [
       "(1879555, 8)"
      ]
     },
     "execution_count": 3,
     "metadata": {},
     "output_type": "execute_result"
    }
   ],
   "source": [
    "df.shape"
   ]
  },
  {
   "cell_type": "markdown",
   "metadata": {
    "id": "EfQKWB20A7_C"
   },
   "source": [
    "### Preprocess and tokenise\n",
    "tokenizing the title, author, categories"
   ]
  },
  {
   "cell_type": "code",
   "execution_count": 5,
   "metadata": {},
   "outputs": [],
   "source": [
    "nlp = spacy.load(\"en_core_web_md\")"
   ]
  },
  {
   "cell_type": "code",
   "execution_count": 6,
   "metadata": {
    "colab": {
     "base_uri": "https://localhost:8080/",
     "height": 33
    },
    "id": "Bdqu_tJFBD_c",
    "outputId": "2d0429af-20c6-467f-b716-41aaa58fd6b2"
   },
   "outputs": [
    {
     "name": "stderr",
     "output_type": "stream",
     "text": [
      "1879555it [01:33, 20028.35it/s]\n"
     ]
    }
   ],
   "source": [
    "tok_title=[] # for our tokenised corpus\n",
    "\n",
    "title = df.title.str.lower().values\n",
    "title = [str(i) for i in title]\n",
    "#Tokenising using SpaCy:\n",
    "for doc in tqdm(nlp.pipe(title, n_threads=2, disable=[\"tagger\", \"parser\",\"ner\"])):\n",
    "    tok = [t.text for t in doc if (t.is_ascii and not t.is_punct and not t.is_space)]\n",
    "    tok_title.append(tok)"
   ]
  },
  {
   "cell_type": "code",
   "execution_count": 7,
   "metadata": {},
   "outputs": [
    {
     "name": "stderr",
     "output_type": "stream",
     "text": [
      "1879555it [05:55, 5281.68it/s] \n"
     ]
    }
   ],
   "source": [
    "tok_authors = []\n",
    "\n",
    "author = df.authors.str.lower().values\n",
    "author = [str(i) for i in author]\n",
    "\n",
    "for doc in tqdm(nlp.pipe(author, n_threads=2, disable=[\"tagger\", \"parser\",\"ner\"])):\n",
    "    tok = [t.text for t in doc if (t.is_ascii and not t.is_punct and not t.is_space)]\n",
    "    tok_authors.append(tok)"
   ]
  },
  {
   "cell_type": "code",
   "execution_count": 8,
   "metadata": {},
   "outputs": [
    {
     "name": "stderr",
     "output_type": "stream",
     "text": [
      "1879555it [00:31, 59540.54it/s] \n"
     ]
    }
   ],
   "source": [
    "tok_categories = []\n",
    "\n",
    "categories = df.categories.str.lower().values\n",
    "categories = [str(i) for i in categories]\n",
    "\n",
    "for doc in tqdm(nlp.pipe(categories, n_threads=2, disable=[\"tagger\", \"parser\",\"ner\"])):\n",
    "    tok = [t.text for t in doc if (t.is_ascii and not t.is_punct and not t.is_space)]\n",
    "    tok_categories.append(tok)"
   ]
  },
  {
   "cell_type": "markdown",
   "metadata": {
    "id": "FQzcxM3xBBw1"
   },
   "source": [
    "### Fast text"
   ]
  },
  {
   "cell_type": "code",
   "execution_count": 9,
   "metadata": {
    "id": "MwHKx5fcxq70"
   },
   "outputs": [],
   "source": [
    "ft_model_title = FastText(\n",
    "    sg=1, # use skip-gram: usually gives better results\n",
    "    # size=100, # embedding dimension (default)\n",
    "    window=10, # window size: 10 tokens before and 10 tokens after to get wider context\n",
    "    min_count=5, # only consider tokens with at least n occurrences in the corpus\n",
    "    negative=15, # negative subsampling: bigger than default to sample negative examples more\n",
    "    min_n=2, # min character n-gram\n",
    "    max_n=5 # max character n-gram\n",
    ")\n",
    "\n",
    "ft_model_title.build_vocab(tok_title)\n",
    "\n",
    "ft_model_title.train(\n",
    "    tok_title,\n",
    "    epochs=6,\n",
    "    total_examples=ft_model_title.corpus_count, \n",
    "    total_words=ft_model_title.corpus_total_words)\n",
    "\n",
    "ft_model_title.save('_fasttext_title.model')"
   ]
  },
  {
   "cell_type": "code",
   "execution_count": 10,
   "metadata": {},
   "outputs": [],
   "source": [
    "ft_model_author = FastText(\n",
    "    sg=1, # use skip-gram: usually gives better results\n",
    "    # size=100, # embedding dimension (default)\n",
    "    window=10, # window size: 10 tokens before and 10 tokens after to get wider context\n",
    "    min_count=5, # only consider tokens with at least n occurrences in the corpus\n",
    "    negative=15, # negative subsampling: bigger than default to sample negative examples more\n",
    "    min_n=2, # min character n-gram\n",
    "    max_n=5 # max character n-gram\n",
    ")\n",
    "\n",
    "ft_model_author.build_vocab(tok_authors)\n",
    "\n",
    "ft_model_author.train(\n",
    "    tok_authors,\n",
    "    epochs=6,\n",
    "    total_examples=ft_model_author.corpus_count, \n",
    "    total_words=ft_model_author.corpus_total_words)\n",
    "\n",
    "ft_model_author.save('_fasttext_author.model')"
   ]
  },
  {
   "cell_type": "code",
   "execution_count": 11,
   "metadata": {},
   "outputs": [],
   "source": [
    "ft_model_categories = FastText(\n",
    "    sg=1, # use skip-gram: usually gives better results\n",
    "    # size=100, # embedding dimension (default)\n",
    "    window=10, # window size: 10 tokens before and 10 tokens after to get wider context\n",
    "    min_count=5, # only consider tokens with at least n occurrences in the corpus\n",
    "    negative=15, # negative subsampling: bigger than default to sample negative examples more\n",
    "    min_n=2, # min character n-gram\n",
    "    max_n=5 # max character n-gram\n",
    ")\n",
    "\n",
    "ft_model_categories.build_vocab(tok_categories)\n",
    "\n",
    "ft_model_categories.train(\n",
    "    tok_categories,\n",
    "    epochs=6,\n",
    "    total_examples=ft_model_categories.corpus_count, \n",
    "    total_words=ft_model_categories.corpus_total_words)\n",
    "\n",
    "ft_model_categories.save('_fasttext_categories.model')"
   ]
  },
  {
   "cell_type": "markdown",
   "metadata": {
    "id": "a1ZSQftUqtMP"
   },
   "source": [
    "### Load fasttext and query"
   ]
  },
  {
   "cell_type": "code",
   "execution_count": 12,
   "metadata": {
    "colab": {
     "base_uri": "https://localhost:8080/",
     "height": 70
    },
    "id": "NFqKwbjmqvSV",
    "outputId": "263893f2-b16f-4d97-8ef4-3ceac2b7407d"
   },
   "outputs": [],
   "source": [
    "ft_model_title = FastText.load('_fasttext_title.model')\n",
    "ft_model_author = FastText.load('_fasttext_author.model')\n",
    "ft_model_categories = FastText.load('_fasttext_categories.model')"
   ]
  },
  {
   "cell_type": "code",
   "execution_count": 14,
   "metadata": {
    "colab": {
     "base_uri": "https://localhost:8080/",
     "height": 456
    },
    "id": "OLwIfq-bLSCr",
    "outputId": "986d87e5-2c76-4acb-e758-2225038fcebc"
   },
   "outputs": [
    {
     "data": {
      "image/png": "[encoded data removed]",
      "text/plain": [
       "<Figure size 432x432 with 1 Axes>"
      ]
     },
     "metadata": {},
     "output_type": "display_data"
    }
   ],
   "source": [
    "with plt.xkcd():\n",
    "  pd.DataFrame(ft_model.wv.most_similar(\"science\", topn=10, restrict_vocab=5000),columns=['Word','Score']).plot.barh(x='Word',figsize=(6,6),color=(0.3,0.7,0.7))"
   ]
  },
  {
   "cell_type": "code",
   "execution_count": 16,
   "metadata": {
    "colab": {
     "base_uri": "https://localhost:8080/",
     "height": 456
    },
    "id": "ISuOgynlLe0T",
    "outputId": "51ccf307-376e-4a54-cfca-ffae5d3a292d"
   },
   "outputs": [
    {
     "data": {
      "image/png": "[encoded data removed]",
      "text/plain": [
       "<Figure size 432x432 with 1 Axes>"
      ]
     },
     "metadata": {},
     "output_type": "display_data"
    }
   ],
   "source": [
    "with plt.xkcd():\n",
    "  pd.DataFrame(ft_model.wv.most_similar(\"jams\", topn=10, restrict_vocab=10000),columns=['Word','Score']).plot.barh(x='Word',figsize=(6,6),color=(0.3,0.7,0.7))"
   ]
  },
  {
   "cell_type": "markdown",
   "metadata": {
    "id": "T-qO3nVYKsJt"
   },
   "source": [
    "### Creating BM25 document vectors:"
   ]
  },
  {
   "cell_type": "code",
   "execution_count": 18,
   "metadata": {
    "id": "D58X-5E0sNDa"
   },
   "outputs": [
    {
     "name": "stderr",
     "output_type": "stream",
     "text": [
      "1879555it [01:55, 16340.40it/s]\n"
     ]
    }
   ],
   "source": [
    "bm25 = BM25Okapi(tok_title)\n",
    "weighted_doc_vects = []\n",
    "\n",
    "for i,doc in tqdm(enumerate(tok_title)):\n",
    "  doc_vector = []\n",
    "  for word in doc:\n",
    "    vector = ft_model.wv[word]\n",
    "    weight = (bm25.idf[word] * ((bm25.k1 + 1.0)*bm25.doc_freqs[i][word])) \n",
    "    / \n",
    "    (bm25.k1 * (1.0 - bm25.b + bm25.b *(bm25.doc_len[i]/bm25.avgdl))+bm25.doc_freqs[i][word])\n",
    "    weighted_vector = vector * weight\n",
    "    doc_vector.append(weighted_vector)\n",
    "  doc_vector_mean = np.mean(doc_vector,axis=0)\n",
    "  weighted_doc_vects.append(doc_vector_mean)"
   ]
  },
  {
   "cell_type": "code",
   "execution_count": 13,
   "metadata": {},
   "outputs": [
    {
     "name": "stderr",
     "output_type": "stream",
     "text": [
      "1879555it [01:52, 16750.87it/s]\n"
     ]
    }
   ],
   "source": [
    "bm25_title = BM25Okapi(tok_title)\n",
    "weighted_doc_vects_title = []\n",
    "\n",
    "for i,doc in tqdm(enumerate(tok_title)):\n",
    "  doc_vector = []\n",
    "  for word in doc:\n",
    "    vector = ft_model_title.wv[word]\n",
    "    weight = (bm25_title.idf[word] * ((bm25_title.k1 + 1.0)*bm25_title.doc_freqs[i][word])) \n",
    "    / \n",
    "    (bm25_title.k1 * (1.0 - bm25_title.b + bm25_title.b *(bm25_title.doc_len[i]/bm25_title.avgdl))+bm25_title.doc_freqs[i][word])\n",
    "    weighted_vector = vector * weight\n",
    "    doc_vector.append(weighted_vector)\n",
    "  doc_vector_mean = np.mean(doc_vector,axis=0)\n",
    "  weighted_doc_vects_title.append(doc_vector_mean)"
   ]
  },
  {
   "cell_type": "code",
   "execution_count": 14,
   "metadata": {},
   "outputs": [
    {
     "name": "stderr",
     "output_type": "stream",
     "text": [
      "1879555it [02:04, 15040.87it/s]\n"
     ]
    }
   ],
   "source": [
    "bm25_author = BM25Okapi(tok_authors)\n",
    "weighted_doc_vects_author = []\n",
    "\n",
    "for i,doc in tqdm(enumerate(tok_authors)):\n",
    "  doc_vector = []\n",
    "  for word in doc:\n",
    "    vector = ft_model_author.wv[word]\n",
    "    weight = (bm25_author.idf[word] * ((bm25_author.k1 + 1.0)*bm25_author.doc_freqs[i][word])) \n",
    "    / \n",
    "    (bm25_author.k1 * (1.0 - bm25_author.b + bm25_author.b *(bm25_author.doc_len[i]/bm25_author.avgdl))+bm25_author.doc_freqs[i][word])\n",
    "    weighted_vector = vector * weight\n",
    "    doc_vector.append(weighted_vector)\n",
    "  doc_vector_mean = np.mean(doc_vector,axis=0)\n",
    "  weighted_doc_vects_author.append(doc_vector_mean)"
   ]
  },
  {
   "cell_type": "code",
   "execution_count": 15,
   "metadata": {},
   "outputs": [
    {
     "name": "stderr",
     "output_type": "stream",
     "text": [
      "1879555it [00:32, 57637.17it/s]\n"
     ]
    }
   ],
   "source": [
    "bm25_categories = BM25Okapi(tok_categories)\n",
    "weighted_doc_vects_categories = []\n",
    "\n",
    "for i,doc in tqdm(enumerate(tok_categories)):\n",
    "  doc_vector = []\n",
    "  for word in doc:\n",
    "    vector = ft_model_categories.wv[word]\n",
    "    weight = (bm25_categories.idf[word] * ((bm25_categories.k1 + 1.0)*bm25_categories.doc_freqs[i][word])) \n",
    "    / \n",
    "    (bm25_categories.k1 * (1.0 - bm25_categories.b + bm25_categories.b *(bm25_categories.doc_len[i]/bm25_categories.avgdl))+bm25_categories.doc_freqs[i][word])\n",
    "    weighted_vector = vector * weight\n",
    "    doc_vector.append(weighted_vector)\n",
    "  doc_vector_mean = np.mean(doc_vector,axis=0)\n",
    "  weighted_doc_vects_categories.append(doc_vector_mean)"
   ]
  },
  {
   "cell_type": "code",
   "execution_count": 17,
   "metadata": {
    "id": "zCE4948dvsy6"
   },
   "outputs": [],
   "source": [
    "pickle.dump(weighted_doc_vects_title, open( \"weighted_doc_vects_title.p\", \"wb\" ) )\n",
    "pickle.dump(weighted_doc_vects_author, open( \"weighted_doc_vects_author.p\", \"wb\" ) )\n",
    "pickle.dump(weighted_doc_vects_categories, open( \"weighted_doc_vects_categories.p\", \"wb\" ) )"
   ]
  },
  {
   "cell_type": "markdown",
   "metadata": {
    "id": "ixGcVaAqKxK7"
   },
   "source": [
    "### Load document vectors, build index and search:"
   ]
  },
  {
   "cell_type": "code",
   "execution_count": 18,
   "metadata": {
    "id": "-60uBQBW19W9"
   },
   "outputs": [],
   "source": [
    "with open( \"weighted_doc_vects_title.p\", \"rb\" ) as f:\n",
    "  weighted_doc_vects_title = pickle.load(f)\n",
    "# create a random matrix to index\n",
    "data_title = np.vstack(weighted_doc_vects_title)\n",
    "\n",
    "# initialize a new index, using a HNSW index on Cosine Similarity - can take a couple of mins\n",
    "index_title = nmslib.init(method='hnsw', space='cosinesimil')\n",
    "index_title.addDataPointBatch(data_title)\n",
    "index_title.createIndex({'post': 2}, print_progress=True)"
   ]
  },
  {
   "cell_type": "code",
   "execution_count": 22,
   "metadata": {},
   "outputs": [],
   "source": [
    "with open( \"weighted_doc_vects_author.p\", \"rb\" ) as f:\n",
    "  weighted_doc_vects_author = pickle.load(f)\n",
    "\n",
    "# create a random matrix to index\n",
    "data_author = np.vstack(weighted_doc_vects_author)\n",
    "\n",
    "# initialize a new index, using a HNSW index on Cosine Similarity - can take a couple of mins\n",
    "index_author = nmslib.init(method='hnsw', space='cosinesimil')\n",
    "index_author.addDataPointBatch(data_author)\n",
    "index_author.createIndex({'post': 2}, print_progress=True)"
   ]
  },
  {
   "cell_type": "code",
   "execution_count": 23,
   "metadata": {},
   "outputs": [],
   "source": [
    "with open( \"weighted_doc_vects_categories.p\", \"rb\" ) as f:\n",
    "  weighted_doc_vects_categories = pickle.load(f)\n",
    "\n",
    "# create a random matrix to index\n",
    "data_categories = np.vstack(weighted_doc_vects_categories)\n",
    "\n",
    "# initialize a new index, using a HNSW index on Cosine Similarity - can take a couple of mins\n",
    "index_categories = nmslib.init(method='hnsw', space='cosinesimil')\n",
    "index_categories.addDataPointBatch(data_categories)\n",
    "index_categories.createIndex({'post': 2}, print_progress=True)"
   ]
  },
  {
   "cell_type": "code",
   "execution_count": 92,
   "metadata": {},
   "outputs": [],
   "source": [
    "index_title.saveIndex(\"index_title.bin\", save_data=True)\n",
    "index_author.saveIndex(\"index_author.bin\", save_data=True)\n",
    "index_categories.saveIndex(\"index_categories.bin\", save_data=True)"
   ]
  },
  {
   "cell_type": "code",
   "execution_count": 94,
   "metadata": {
    "colab": {
     "base_uri": "https://localhost:8080/",
     "height": 439
    },
    "id": "63qqZjXT3BOH",
    "outputId": "0e5b6695-925b-4f50-8a11-f6ce7f85d3f4"
   },
   "outputs": [
    {
     "ename": "AttributeError",
     "evalue": "module 'utils' has no attribute 'time_important'",
     "output_type": "error",
     "traceback": [
      "\u001b[0;31m---------------------------------------------------------------------------\u001b[0m",
      "\u001b[0;31mAttributeError\u001b[0m                            Traceback (most recent call last)",
      "\u001b[0;32m<ipython-input-94-9d1d63947bf7>\u001b[0m in \u001b[0;36m<module>\u001b[0;34m\u001b[0m\n\u001b[1;32m      6\u001b[0m \u001b[0mauthors\u001b[0m \u001b[0;34m=\u001b[0m \u001b[0mutils\u001b[0m\u001b[0;34m.\u001b[0m\u001b[0mget_authors\u001b[0m\u001b[0;34m(\u001b[0m\u001b[0mtokenized_input\u001b[0m\u001b[0;34m)\u001b[0m\u001b[0;34m\u001b[0m\u001b[0;34m\u001b[0m\u001b[0m\n\u001b[1;32m      7\u001b[0m \u001b[0mtext\u001b[0m \u001b[0;34m=\u001b[0m \u001b[0mutils\u001b[0m\u001b[0;34m.\u001b[0m\u001b[0mget_input\u001b[0m\u001b[0;34m(\u001b[0m\u001b[0mtokenized_input\u001b[0m\u001b[0;34m)\u001b[0m\u001b[0;34m\u001b[0m\u001b[0;34m\u001b[0m\u001b[0m\n\u001b[0;32m----> 8\u001b[0;31m \u001b[0mtext\u001b[0m\u001b[0;34m,\u001b[0m \u001b[0mimportant\u001b[0m \u001b[0;34m=\u001b[0m \u001b[0mutils\u001b[0m\u001b[0;34m.\u001b[0m\u001b[0mtime_important\u001b[0m\u001b[0;34m(\u001b[0m\u001b[0mtext\u001b[0m\u001b[0;34m)\u001b[0m\u001b[0;34m\u001b[0m\u001b[0;34m\u001b[0m\u001b[0m\n\u001b[0m\u001b[1;32m      9\u001b[0m \u001b[0mprint\u001b[0m\u001b[0;34m(\u001b[0m\u001b[0mtext\u001b[0m\u001b[0;34m)\u001b[0m\u001b[0;34m\u001b[0m\u001b[0;34m\u001b[0m\u001b[0m\n\u001b[1;32m     10\u001b[0m \u001b[0mprint\u001b[0m\u001b[0;34m(\u001b[0m\u001b[0mimportant\u001b[0m\u001b[0;34m)\u001b[0m\u001b[0;34m\u001b[0m\u001b[0;34m\u001b[0m\u001b[0m\n",
      "\u001b[0;31mAttributeError\u001b[0m: module 'utils' has no attribute 'time_important'"
     ]
    }
   ],
   "source": [
    "# querying the index:\n",
    "query = 'computer science papers in march'\n",
    "\n",
    "tokenized_input = utils.get_post(query)\n",
    "dates = utils.get_dates(tokenized_input)\n",
    "authors = utils.get_authors(tokenized_input)\n",
    "text = utils.get_input(tokenized_input)\n",
    "text, important = utils.time_important(text)\n",
    "print(text)\n",
    "print(important)"
   ]
  },
  {
   "cell_type": "code",
   "execution_count": 68,
   "metadata": {
    "colab": {
     "base_uri": "https://localhost:8080/",
     "height": 439
    },
    "id": "63qqZjXT3BOH",
    "outputId": "0e5b6695-925b-4f50-8a11-f6ce7f85d3f4",
    "scrolled": true
   },
   "outputs": [],
   "source": [
    "query_title = [ft_model_title.wv[vec] for vec in text]\n",
    "query_title = np.mean(query_title,axis=0)\n",
    "\n",
    "query_author = [ft_model_author.wv[vec] for vec in authors]\n",
    "query_author = np.mean(query_author,axis=0)\n",
    "\n",
    "query_categories = [ft_model_categories.wv[vec] for vec in text]\n",
    "query_categories = np.mean(query_categories,axis=0)\n",
    "\n",
    "t0 = time.time()\n",
    "\n",
    "ids_title, distances_title = index_title.knnQuery(query_title, k=10)\n",
    "if not np.isnan(query_author).any(): \n",
    "    ids_author, distances_author = index_author.knnQuery(query_author, k=10)\n",
    "ids_categories, distances_categories = index_categories.knnQuery(query_categories, k=10)\n",
    "\n",
    "t1 = time.time()"
   ]
  },
  {
   "cell_type": "code",
   "execution_count": 84,
   "metadata": {},
   "outputs": [
    {
     "name": "stderr",
     "output_type": "stream",
     "text": [
      "<ipython-input-84-55768b2fad50>:2: SettingWithCopyWarning: \n",
      "A value is trying to be set on a copy of a slice from a DataFrame.\n",
      "Try using .loc[row_indexer,col_indexer] = value instead\n",
      "\n",
      "See the caveats in the documentation: https://pandas.pydata.org/pandas-docs/stable/user_guide/indexing.html#returning-a-view-versus-a-copy\n",
      "  titles_df['distances'] = pd.DataFrame(pd.Series(distances_title)).set_index(titles_df.index)\n",
      "<ipython-input-84-55768b2fad50>:7: SettingWithCopyWarning: \n",
      "A value is trying to be set on a copy of a slice from a DataFrame.\n",
      "Try using .loc[row_indexer,col_indexer] = value instead\n",
      "\n",
      "See the caveats in the documentation: https://pandas.pydata.org/pandas-docs/stable/user_guide/indexing.html#returning-a-view-versus-a-copy\n",
      "  authors_df['distances'] = pd.DataFrame(pd.Series(distances_author)).set_index(authors_df.index)\n",
      "<ipython-input-84-55768b2fad50>:12: SettingWithCopyWarning: \n",
      "A value is trying to be set on a copy of a slice from a DataFrame.\n",
      "Try using .loc[row_indexer,col_indexer] = value instead\n",
      "\n",
      "See the caveats in the documentation: https://pandas.pydata.org/pandas-docs/stable/user_guide/indexing.html#returning-a-view-versus-a-copy\n",
      "  categories_df['distances'] = pd.DataFrame(pd.Series(distances_categories)).set_index(categories_df.index)\n"
     ]
    },
    {
     "data": {
      "text/html": [
       "<div>\n",
       "<style scoped>\n",
       "    .dataframe tbody tr th:only-of-type {\n",
       "        vertical-align: middle;\n",
       "    }\n",
       "\n",
       "    .dataframe tbody tr th {\n",
       "        vertical-align: top;\n",
       "    }\n",
       "\n",
       "    .dataframe thead th {\n",
       "        text-align: right;\n",
       "    }\n",
       "</style>\n",
       "<table border=\"1\" class=\"dataframe\">\n",
       "  <thead>\n",
       "    <tr style=\"text-align: right;\">\n",
       "      <th></th>\n",
       "      <th>index</th>\n",
       "      <th>Unnamed: 0</th>\n",
       "      <th>authors</th>\n",
       "      <th>title</th>\n",
       "      <th>categories</th>\n",
       "      <th>abstract</th>\n",
       "      <th>update_date</th>\n",
       "      <th>month</th>\n",
       "      <th>year</th>\n",
       "      <th>distances</th>\n",
       "    </tr>\n",
       "  </thead>\n",
       "  <tbody>\n",
       "    <tr>\n",
       "      <th>0</th>\n",
       "      <td>1116632</td>\n",
       "      <td>1116632</td>\n",
       "      <td>Benjamin Allaert and Isaac Ronald Ward and Ioan Marius Bilasco and\\n  Chaabane Djeraba and Mohammed Bennamoun</td>\n",
       "      <td>Optical Flow Techniques for Facial Expression Analysis -- a Practical\\n  Evaluation Study</td>\n",
       "      <td>Computer Vision and Pattern Recognition</td>\n",
       "      <td>Optical flow techniques are becoming increasingly performant and robust when\\nestimating motion in a scene, but their performance has yet to be proven in the\\narea of facial expression recognition. In this work, a variety of optical flow\\napproaches are evaluated across multiple facial expression datasets, so as to\\nprovide a consistent performance evaluation. The aim of this work is not to\\npropose a new expression recognition technique, but to understand better the\\nadequacy of existing state-of-the art optical flow for encoding facial motion\\nin the context of facial expression recognition. Our evaluations highlight the\\nfact that motion approximation methods used to overcome motion discontinuities\\nhave a significant impact when optical flows are used to characterize facial\\nexpressions.\\n</td>\n",
       "      <td>2021-01-06</td>\n",
       "      <td>january</td>\n",
       "      <td>2021</td>\n",
       "      <td>0.096008</td>\n",
       "    </tr>\n",
       "    <tr>\n",
       "      <th>1</th>\n",
       "      <td>1435099</td>\n",
       "      <td>1435099</td>\n",
       "      <td>Quentin Fournier, Naser Ezzati-Jivan, Daniel Aloise, and Michel R.\\n  Dagenais</td>\n",
       "      <td>Automatic Cause Detection of Performance Problems in Web Applications</td>\n",
       "      <td>NaN</td>\n",
       "      <td>The execution of similar units can be compared by their internal behaviors to\\ndetermine the causes of their potential performance issues. For instance, by\\nexamining the internal behaviors of different fast or slow web requests more\\nclosely and by clustering and comparing their internal executions, one can\\ndetermine what causes some requests to run slowly or behave in unexpected ways.\\nIn this paper, we propose a method of extracting the internal behavior of web\\nrequests as well as introduce a pipeline that detects performance issues in web\\nrequests and provides insights into their root causes. First, low-level and\\nfine-grained information regarding each request is gathered by tracing both the\\nuser space and the kernel space. Second, further information is extracted and\\nfed into an outlier detector. Finally, these outliers are then clustered by\\ntheir behavior, and each group is analyzed separately. Experiments revealed\\nthat this pipeline is indeed able to detect slow web requests and provide\\nadditional insights into their true root causes. Notably, we were able to\\nidentify a real PHP cache contention using the proposed approach.\\n</td>\n",
       "      <td>2021-03-09</td>\n",
       "      <td>march</td>\n",
       "      <td>2021</td>\n",
       "      <td>0.100571</td>\n",
       "    </tr>\n",
       "    <tr>\n",
       "      <th>2</th>\n",
       "      <td>764415</td>\n",
       "      <td>764415</td>\n",
       "      <td>Conor Sexton, Quentin Bodinier, Arman Farhang, Nicola Marchetti,\\n  Faouzi Bader, Luiz A. DaSilva</td>\n",
       "      <td>Coexistence of OFDM and FBMC for Underlay D2D Communication in 5G\\n  Networks</td>\n",
       "      <td>Networking and Internet Architecture</td>\n",
       "      <td>Device-to-device (D2D) communication is being heralded as an important part\\nof the solution to the capacity problem in future networks, and is expected to\\nbe natively supported in 5G. Given the high network complexity and required\\nsignalling overhead associated with achieving synchronization in D2D networks,\\nit is necessary to study asynchronous D2D communications. In this paper, we\\nconsider a scenario whereby asynchronous D2D communication underlays an OFDMA\\nmacro-cell in the uplink. Motivated by the superior performance of new\\nwaveforms with increased spectral localization in the presence of frequency and\\ntime misalignments, we compare the system-level performance of a set-up for\\nwhen D2D pairs use either OFDM or FBMC/OQAM. We first demonstrate that\\ninter-D2D interference, resulting from misaligned communications, plays a\\nsignificant role in clustered D2D topologies. We then demonstrate that the\\nresource allocation procedure can be simplified when D2D pairs use FBMC/OQAM,\\nsince the high spectral localization of FBMC/OQAM results in negligible\\ninter-D2D interference. Specifically, we identify that FBMC/OQAM is best suited\\nto scenarios consisting of small, densely populated D2D clusters located near\\nthe encompassing cell's edge.\\n</td>\n",
       "      <td>2016-08-30</td>\n",
       "      <td>august</td>\n",
       "      <td>2016</td>\n",
       "      <td>0.100870</td>\n",
       "    </tr>\n",
       "    <tr>\n",
       "      <th>3</th>\n",
       "      <td>1462721</td>\n",
       "      <td>1462721</td>\n",
       "      <td>Chrisantha Fernando, S. M. Ali Eslami, Jean-Baptiste Alayrac, Piotr\\n  Mirowski, Dylan Banarse, Simon Osindero</td>\n",
       "      <td>Generative Art Using Neural Visual Grammars and Dual Encoders</td>\n",
       "      <td>NaN</td>\n",
       "      <td>Whilst there are perhaps only a few scientific methods, there seem to be\\nalmost as many artistic methods as there are artists. Artistic processes appear\\nto inhabit the highest order of open-endedness. To begin to understand some of\\nthe processes of art making it is helpful to try to automate them even\\npartially. In this paper, a novel algorithm for producing generative art is\\ndescribed which allows a user to input a text string, and which in a creative\\nresponse to this string, outputs an image which interprets that string. It does\\nso by evolving images using a hierarchical neural Lindenmeyer system, and\\nevaluating these images along the way using an image text dual encoder trained\\non billions of images and their associated text from the internet. In doing so\\nwe have access to and control over an instance of an artistic process, allowing\\nanalysis of which aspects of the artistic process become the task of the\\nalgorithm, and which elements remain the responsibility of the artist.\\n</td>\n",
       "      <td>2021-05-05</td>\n",
       "      <td>may</td>\n",
       "      <td>2021</td>\n",
       "      <td>0.105357</td>\n",
       "    </tr>\n",
       "    <tr>\n",
       "      <th>4</th>\n",
       "      <td>565516</td>\n",
       "      <td>565516</td>\n",
       "      <td>Simon Ma\\\"ero, Abderrezak Torche, Thanyanan Phuphachong, Emiliano\\n  Pallecchi, Abdelkarim Ouerghi, Robson Ferreira, Louis-Anne de Vaulchier, Yves\\n  Guldner</td>\n",
       "      <td>Disorder-perturbed Landau levels in high electron mobility epitaxial\\n  graphene</td>\n",
       "      <td>Mesoscale and Nanoscale Physics</td>\n",
       "      <td>We show that the Landau levels in epitaxial graphene in presence of localized\\ndefects are significantly modified compared to those of an ideal system. We\\nreport on magneto-spectroscopy experiments performed on high quality samples.\\nBesides typical interband magneto-optical transitions, we clearly observe\\nadditional transitions that involve perturbed states associated to short-range\\nimpurities such as vacancies. Their intensity is found to decrease with an\\nannealing process and a partial self-healing over time is observed.\\nCalculations of the perturbed Landau levels by using a delta-like potential\\nshow electronic states both between and at the same energies of the Laudau\\nlevels of ideal graphene. The calculated absorption spectra involving all\\nperturbed and unperturbed states are in very good agreement with the\\nexperiments.\\n</td>\n",
       "      <td>2014-11-24</td>\n",
       "      <td>november</td>\n",
       "      <td>2014</td>\n",
       "      <td>0.105613</td>\n",
       "    </tr>\n",
       "  </tbody>\n",
       "</table>\n",
       "</div>"
      ],
      "text/plain": [
       "     index  Unnamed: 0  \\\n",
       "0  1116632  1116632      \n",
       "1  1435099  1435099      \n",
       "2  764415   764415       \n",
       "3  1462721  1462721      \n",
       "4  565516   565516       \n",
       "\n",
       "                                                                                                                                                         authors  \\\n",
       "0  Benjamin Allaert and Isaac Ronald Ward and Ioan Marius Bilasco and\\n  Chaabane Djeraba and Mohammed Bennamoun                                                   \n",
       "1  Quentin Fournier, Naser Ezzati-Jivan, Daniel Aloise, and Michel R.\\n  Dagenais                                                                                  \n",
       "2  Conor Sexton, Quentin Bodinier, Arman Farhang, Nicola Marchetti,\\n  Faouzi Bader, Luiz A. DaSilva                                                               \n",
       "3  Chrisantha Fernando, S. M. Ali Eslami, Jean-Baptiste Alayrac, Piotr\\n  Mirowski, Dylan Banarse, Simon Osindero                                                  \n",
       "4  Simon Ma\\\"ero, Abderrezak Torche, Thanyanan Phuphachong, Emiliano\\n  Pallecchi, Abdelkarim Ouerghi, Robson Ferreira, Louis-Anne de Vaulchier, Yves\\n  Guldner   \n",
       "\n",
       "                                                                                       title  \\\n",
       "0  Optical Flow Techniques for Facial Expression Analysis -- a Practical\\n  Evaluation Study   \n",
       "1  Automatic Cause Detection of Performance Problems in Web Applications                       \n",
       "2  Coexistence of OFDM and FBMC for Underlay D2D Communication in 5G\\n  Networks               \n",
       "3  Generative Art Using Neural Visual Grammars and Dual Encoders                               \n",
       "4  Disorder-perturbed Landau levels in high electron mobility epitaxial\\n  graphene            \n",
       "\n",
       "                                categories  \\\n",
       "0  Computer Vision and Pattern Recognition   \n",
       "1  NaN                                       \n",
       "2  Networking and Internet Architecture      \n",
       "3  NaN                                       \n",
       "4  Mesoscale and Nanoscale Physics           \n",
       "\n",
       "                                                                                                                                                                                                                                                                                                                                                                                                                                                                                                                                                                                                                                                                                                                                                                                                                                                                                                                                                                                                                                                                                                                                                                                                                                                                                                               abstract  \\\n",
       "0    Optical flow techniques are becoming increasingly performant and robust when\\nestimating motion in a scene, but their performance has yet to be proven in the\\narea of facial expression recognition. In this work, a variety of optical flow\\napproaches are evaluated across multiple facial expression datasets, so as to\\nprovide a consistent performance evaluation. The aim of this work is not to\\npropose a new expression recognition technique, but to understand better the\\nadequacy of existing state-of-the art optical flow for encoding facial motion\\nin the context of facial expression recognition. Our evaluations highlight the\\nfact that motion approximation methods used to overcome motion discontinuities\\nhave a significant impact when optical flows are used to characterize facial\\nexpressions.\\n                                                                                                                                                                                                                                                                                                                                                                                                                                                                                 \n",
       "1    The execution of similar units can be compared by their internal behaviors to\\ndetermine the causes of their potential performance issues. For instance, by\\nexamining the internal behaviors of different fast or slow web requests more\\nclosely and by clustering and comparing their internal executions, one can\\ndetermine what causes some requests to run slowly or behave in unexpected ways.\\nIn this paper, we propose a method of extracting the internal behavior of web\\nrequests as well as introduce a pipeline that detects performance issues in web\\nrequests and provides insights into their root causes. First, low-level and\\nfine-grained information regarding each request is gathered by tracing both the\\nuser space and the kernel space. Second, further information is extracted and\\nfed into an outlier detector. Finally, these outliers are then clustered by\\ntheir behavior, and each group is analyzed separately. Experiments revealed\\nthat this pipeline is indeed able to detect slow web requests and provide\\nadditional insights into their true root causes. Notably, we were able to\\nidentify a real PHP cache contention using the proposed approach.\\n                                                                                                             \n",
       "2    Device-to-device (D2D) communication is being heralded as an important part\\nof the solution to the capacity problem in future networks, and is expected to\\nbe natively supported in 5G. Given the high network complexity and required\\nsignalling overhead associated with achieving synchronization in D2D networks,\\nit is necessary to study asynchronous D2D communications. In this paper, we\\nconsider a scenario whereby asynchronous D2D communication underlays an OFDMA\\nmacro-cell in the uplink. Motivated by the superior performance of new\\nwaveforms with increased spectral localization in the presence of frequency and\\ntime misalignments, we compare the system-level performance of a set-up for\\nwhen D2D pairs use either OFDM or FBMC/OQAM. We first demonstrate that\\ninter-D2D interference, resulting from misaligned communications, plays a\\nsignificant role in clustered D2D topologies. We then demonstrate that the\\nresource allocation procedure can be simplified when D2D pairs use FBMC/OQAM,\\nsince the high spectral localization of FBMC/OQAM results in negligible\\ninter-D2D interference. Specifically, we identify that FBMC/OQAM is best suited\\nto scenarios consisting of small, densely populated D2D clusters located near\\nthe encompassing cell's edge.\\n   \n",
       "3    Whilst there are perhaps only a few scientific methods, there seem to be\\nalmost as many artistic methods as there are artists. Artistic processes appear\\nto inhabit the highest order of open-endedness. To begin to understand some of\\nthe processes of art making it is helpful to try to automate them even\\npartially. In this paper, a novel algorithm for producing generative art is\\ndescribed which allows a user to input a text string, and which in a creative\\nresponse to this string, outputs an image which interprets that string. It does\\nso by evolving images using a hierarchical neural Lindenmeyer system, and\\nevaluating these images along the way using an image text dual encoder trained\\non billions of images and their associated text from the internet. In doing so\\nwe have access to and control over an instance of an artistic process, allowing\\nanalysis of which aspects of the artistic process become the task of the\\nalgorithm, and which elements remain the responsibility of the artist.\\n                                                                                                                                                                                                                                                                       \n",
       "4    We show that the Landau levels in epitaxial graphene in presence of localized\\ndefects are significantly modified compared to those of an ideal system. We\\nreport on magneto-spectroscopy experiments performed on high quality samples.\\nBesides typical interband magneto-optical transitions, we clearly observe\\nadditional transitions that involve perturbed states associated to short-range\\nimpurities such as vacancies. Their intensity is found to decrease with an\\nannealing process and a partial self-healing over time is observed.\\nCalculations of the perturbed Landau levels by using a delta-like potential\\nshow electronic states both between and at the same energies of the Laudau\\nlevels of ideal graphene. The calculated absorption spectra involving all\\nperturbed and unperturbed states are in very good agreement with the\\nexperiments.\\n                                                                                                                                                                                                                                                                                                                                                                                                                                      \n",
       "\n",
       "  update_date     month  year  distances  \n",
       "0  2021-01-06  january   2021  0.096008   \n",
       "1  2021-03-09  march     2021  0.100571   \n",
       "2  2016-08-30  august    2016  0.100870   \n",
       "3  2021-05-05  may       2021  0.105357   \n",
       "4  2014-11-24  november  2014  0.105613   "
      ]
     },
     "execution_count": 84,
     "metadata": {},
     "output_type": "execute_result"
    }
   ],
   "source": [
    "titles_df = df.iloc[ids_title]\n",
    "titles_df['distances'] = pd.DataFrame(pd.Series(distances_title)).set_index(titles_df.index)\n",
    "titles_df.reset_index(inplace=True)\n",
    "results = titles_df\n",
    "\n",
    "authors_df = df.iloc[ids_author]\n",
    "authors_df['distances'] = pd.DataFrame(pd.Series(distances_author)).set_index(authors_df.index)\n",
    "authors_df.reset_index(inplace=True)\n",
    "results = pd.concat([authors_df, titles_df])\n",
    "\n",
    "categories_df = df.iloc[ids_categories]\n",
    "categories_df['distances'] = pd.DataFrame(pd.Series(distances_categories)).set_index(categories_df.index)\n",
    "categories_df.reset_index(inplace=True)\n",
    "results = pd.concat([results, categories_df])\n",
    "                     \n",
    "results.head()"
   ]
  },
  {
   "cell_type": "code",
   "execution_count": 86,
   "metadata": {},
   "outputs": [
    {
     "data": {
      "text/html": [
       "<div>\n",
       "<style scoped>\n",
       "    .dataframe tbody tr th:only-of-type {\n",
       "        vertical-align: middle;\n",
       "    }\n",
       "\n",
       "    .dataframe tbody tr th {\n",
       "        vertical-align: top;\n",
       "    }\n",
       "\n",
       "    .dataframe thead th {\n",
       "        text-align: right;\n",
       "    }\n",
       "</style>\n",
       "<table border=\"1\" class=\"dataframe\">\n",
       "  <thead>\n",
       "    <tr style=\"text-align: right;\">\n",
       "      <th></th>\n",
       "      <th>index</th>\n",
       "      <th>Unnamed: 0</th>\n",
       "      <th>authors</th>\n",
       "      <th>title</th>\n",
       "      <th>categories</th>\n",
       "      <th>abstract</th>\n",
       "      <th>update_date</th>\n",
       "      <th>month</th>\n",
       "      <th>year</th>\n",
       "      <th>distances</th>\n",
       "    </tr>\n",
       "  </thead>\n",
       "  <tbody>\n",
       "    <tr>\n",
       "      <th>0</th>\n",
       "      <td>762270</td>\n",
       "      <td>762270</td>\n",
       "      <td>Pawan Kumar Srivastava, Swasti Arya, Santosh Kumar and Subhasis Ghosh</td>\n",
       "      <td>Relativistic nature of carriers: Origin of electron-hole conduction\\n  asymmetry in m o n o l a ye r gr a p h e n e</td>\n",
       "      <td>Mesoscale and Nanoscale Physics</td>\n",
       "      <td>We report electron-hole conduction asymmetry in monolayer graphene.\\nPreviously, it has been claimed that electron-hole conduction asymmetry is due\\nto imbalanced carrier injection from metallic electrodes. Here, we show that\\nmetallic contacts have negligible impact on asymmetric conduction and may be\\neither sample or device-dependent phenomena. Electrical measurements show that\\nmonolayer graphene based devices exhibit suppressed electron conduction\\ncompared to hole conduction due to the presence of donor impurities which\\nscatter electrons more efficiently. This can be explained by the relativistic\\nnature of charge carriers in a graphene monolayer and can be reconciled with\\nthe fact that in a relativistic quantum system transport cross section does\\ndepend on the sign of scattering potential in contrast to a nonrelativistic\\nquantum system.\\n</td>\n",
       "      <td>2017-12-20</td>\n",
       "      <td>december</td>\n",
       "      <td>2017</td>\n",
       "      <td>0.038026</td>\n",
       "    </tr>\n",
       "    <tr>\n",
       "      <th>1</th>\n",
       "      <td>1817950</td>\n",
       "      <td>1817950</td>\n",
       "      <td>Doracelly Hincapie, Juan Ospina</td>\n",
       "      <td>Stochastic S-I-S-O-E Epidemic Model</td>\n",
       "      <td>NaN</td>\n",
       "      <td>An stochastic SIS epidemic model in an open environment is presented.\\n</td>\n",
       "      <td>2007-05-23</td>\n",
       "      <td>may</td>\n",
       "      <td>2007</td>\n",
       "      <td>0.052066</td>\n",
       "    </tr>\n",
       "    <tr>\n",
       "      <th>2</th>\n",
       "      <td>1687884</td>\n",
       "      <td>1687884</td>\n",
       "      <td>Anirban Kundu, Soumitra Nandi, Jyoti Prasad Saha</td>\n",
       "      <td>New Physics in b --&gt; s bar(s) s Decay</td>\n",
       "      <td>High Energy Physics - Phenomenology</td>\n",
       "      <td>We perform a model-independent analysis of the data on branching ratios and\\nCP asymmetries of $B\\to\\phi K$ and $B\\to\\eta^{(')} K^{(*)}$ modes. The present\\ndata is encouraging to look for indirect evidences of physics beyond the\\nStandard Model. We investigate the parameter spaces for different possible\\nLorentz structures of the new physics four-Fermi interaction. It is shown that\\nif one takes the data at $1\\sigma$ confidence level, only one particular\\nLorentz structure is allowed. Possible consequences for the $B_s$ system are\\nalso discussed.\\n</td>\n",
       "      <td>2009-11-11</td>\n",
       "      <td>november</td>\n",
       "      <td>2009</td>\n",
       "      <td>0.053594</td>\n",
       "    </tr>\n",
       "    <tr>\n",
       "      <th>3</th>\n",
       "      <td>466738</td>\n",
       "      <td>466738</td>\n",
       "      <td>Davood Momeni, Muhammad Raza, Ratbay Myrzakulov</td>\n",
       "      <td>Analytical coexistence of s, p, s + p phases of a holographic\\n  superconductor</td>\n",
       "      <td>High Energy Physics - Theory</td>\n",
       "      <td>We analytically study the critical phase of a mixed system of the U(2) gauge\\nfields and global symmetry on the boundary using gauge/gravity. A variational\\nminimization problem has been formulated. The numerical results pertinently\\nshow that there exists a minimum chemical potential in which both scalar\\n(s-wave) and vector (p-wave) condensates exist in a mixture, as well as in the\\ndistinct s- and p-phases. This result is obtained by breaking the symmetry into\\nU(1) symmetry and rotational symmetry. While the analytical solutions of\\ncondensates and charge densities are achieved in both cases: the balanced and\\nunbalanced holographic superconductors. This is the first an- alytical study of\\nthe coexistence of two modes of the superconductivity with different order\\nparameters. The realistic model consists of two different phases of the\\nsuperfluidity in Helium.\\n</td>\n",
       "      <td>2015-04-07</td>\n",
       "      <td>april</td>\n",
       "      <td>2015</td>\n",
       "      <td>0.054373</td>\n",
       "    </tr>\n",
       "    <tr>\n",
       "      <th>4</th>\n",
       "      <td>1825888</td>\n",
       "      <td>1825888</td>\n",
       "      <td>Ch. C. Moustakidis and S. E. Massen</td>\n",
       "      <td>One-body density matrix and momentum distribution in s-p and s-d shell\\n  nuclei</td>\n",
       "      <td>Nuclear Theory</td>\n",
       "      <td>Analytical expressions of the one- and two- body terms in the cluster\\nexpansion of the one-body density matrix and momentum distribution of the s-p\\nand s-d shell nuclei with N=Z are derived. They depend on the harmonic\\noscillator parameter b and the parameter $\\beta$ which originates from the\\nJastrow correlation function. These parameters have been determined by least\\nsquares fit to the experimental charge form factors. The inclusion of\\nshort-range correlations increases the high momentum component of the momentum\\ndistribution, $n({\\bf k})$ for all nuclei we have considered while there is an\\nA dependence of $n({\\bf k})$ both at small values of k and the high momentum\\ncomponent. The A dependence of the high momentum component of $n({\\bf k})$\\nbecomes quite small when the nuclei $^{24}$Mg, $^{28}$Si and $^{32}$S are\\ntreated as 1d-2s shell nuclei having the occupation probability of the 2s-state\\nas an extra free parameter in the fit to the form factors.\\n</td>\n",
       "      <td>2009-11-06</td>\n",
       "      <td>november</td>\n",
       "      <td>2009</td>\n",
       "      <td>0.060876</td>\n",
       "    </tr>\n",
       "    <tr>\n",
       "      <th>5</th>\n",
       "      <td>1784833</td>\n",
       "      <td>1784833</td>\n",
       "      <td>David Bessis, Ruth Corran</td>\n",
       "      <td>Non-crossing partitions of type (e,e,r)</td>\n",
       "      <td>Group Theory</td>\n",
       "      <td>We investigate a new lattice of generalised non-crossing partitions,\\nconstructed using the geometry of the complex reflection group $G(e,e,r)$. For\\nthe particular case $e=2$ (resp. $r=2$), our lattice coincides with the lattice\\nof simple elements for the type $D_n$ (resp. $I_2(e)$) dual braid monoid. Using\\nthis lattice, we construct a Garside structure for the braid group $B(e,e,r)$.\\nAs a corollary, one may solve the word and conjugacy problems in this group.\\n</td>\n",
       "      <td>2007-05-23</td>\n",
       "      <td>may</td>\n",
       "      <td>2007</td>\n",
       "      <td>0.061086</td>\n",
       "    </tr>\n",
       "    <tr>\n",
       "      <th>6</th>\n",
       "      <td>1569335</td>\n",
       "      <td>1569335</td>\n",
       "      <td>V. N. Krivoruchko, E. A. Koshina (Donetsk Physics and Technology\\n  Institute, Donetsk, Ukraine)</td>\n",
       "      <td>Critical current of a S/F-I-N/S tunnel structure in a parallel magnetic\\n  field</td>\n",
       "      <td>Superconductivity</td>\n",
       "      <td>We study the critical current of a S/F-I-N/S tunnel structure - a proximity\\ncoupled superconductor (S) with thin ferromagnetic (F) and nonmagnetic (N)\\nmetals separated by an insulating (I) barrier - in an external magnetic field.\\nThe dependence of the current on exchange and external magnetic fields, and\\ntheir mutual orientation is analyzed within the microscopic theory of the\\nproximity effect. We find that the S/F-I-N/S contact with strong magnetism of\\nthe F layer is in a ground state with superconducting phase difference on the\\nelectrodes about pi/2. Low external magnetic field reverses the critical\\ncurrent sign of such a contact (a \\pi-state of the junction) for parallel field\\norientation. For antiparallel alignment the dc Josephson current behavior is\\nessentially nonmonotonic: by increasing an external magnetic field the current\\npasses though a maximum, while the 0-phase state is held, and then the junction\\ngets into the \\pi-phase state with an opposite current direction. We\\ndemonstrate that the hybrid S/F-I-N/S metal structures possess new effects of\\nthe superconductivity in the presence of spin splitting, while an experimental\\nset-up seems to be feasible and it may lead to further understanding of\\nsuperconducting proximity effects in ferromagnetic materials.\\n</td>\n",
       "      <td>2007-05-23</td>\n",
       "      <td>may</td>\n",
       "      <td>2007</td>\n",
       "      <td>0.061772</td>\n",
       "    </tr>\n",
       "    <tr>\n",
       "      <th>7</th>\n",
       "      <td>1666395</td>\n",
       "      <td>1666395</td>\n",
       "      <td>X. Calmet (Munich U.)</td>\n",
       "      <td>One-Particle Inclusive B sub s -&gt; D bar sub s X Decays</td>\n",
       "      <td>High Energy Physics - Phenomenology</td>\n",
       "      <td>We discuss one-particle inclusive B sub s -&gt; D bar sub s X decays using a QCD\\nbased method already applied to B -&gt; D bar X. A link between the right charm\\nnon-perturbative form factors of the semi-leptonic decays and those of the\\nnon-leptonic decays is established. Our results are compatible with current\\nexperimental knowledge.\\n</td>\n",
       "      <td>2009-10-31</td>\n",
       "      <td>october</td>\n",
       "      <td>2009</td>\n",
       "      <td>0.062935</td>\n",
       "    </tr>\n",
       "    <tr>\n",
       "      <th>8</th>\n",
       "      <td>451738</td>\n",
       "      <td>451738</td>\n",
       "      <td>V.D. Efros (1,2), P. von Neumann-Cosel (3), A. Richter (2,3) ((1)\\n  National Research Center \"Kurchatov Institute\", Russia, (2) European Centre\\n  for Theoretical Studies in Nuclear Physics and Related Areas (ECT), Trento,\\n  Italy, (3) Institut f\\\"ur Kernphysik, Technische Universit\\\"at Darmstadt,\\n  Germany)</td>\n",
       "      <td>Properties of the first excited state of 9Be derived from (gamma,n) and\\n  (e,e') reactions</td>\n",
       "      <td>NaN</td>\n",
       "      <td>Properties of the first excited state of the nucleus 9Be are discussed based\\non recent (e,e') and (gamma,n) experiments. The parameters of an R-matrix\\nanalysis of different data sets are consistent with a resonance rather than a\\nvirtual state predicted by some model calculations. The energy and the width of\\nthe resonance are deduced. Their values are rather similar for all data sets,\\nand the energy proves to be negative. It is argued that the disagreement\\nbetween the extracted B(E1) values may stem from different ways of integration\\nof the resonance. If corrected, fair agreement between the (e,e') and one of\\nthe (gamma,n) data sets is found. A recent (gamma,n) experiment at the HIgS\\nfacility exhibits larger cross sections close to the neutron threshold which\\nremain to be explained.\\n</td>\n",
       "      <td>2014-03-03</td>\n",
       "      <td>march</td>\n",
       "      <td>2014</td>\n",
       "      <td>0.065289</td>\n",
       "    </tr>\n",
       "    <tr>\n",
       "      <th>9</th>\n",
       "      <td>1719993</td>\n",
       "      <td>1719993</td>\n",
       "      <td>Jen-Chi Lee</td>\n",
       "      <td>T-dual R-R zero-norm states, D-branes and S-duality of type II string\\n  theory</td>\n",
       "      <td>High Energy Physics - Theory</td>\n",
       "      <td>We calculate the R-R zero-norm states of type II string spectrum. To fit\\nthese states into the right symmetry charge parameters of the gauge\\ntransformations of the R-R tensor forms, one is forced to T-dualize some type I\\nopen string space-time coordinates and thus to introduce D-branes into the\\ntheory. We also demonstrate that the constant T-dual R-R 0-form zero-norm\\nstate, together with the NS-NS singlet zero-norm state are responsible for the\\nSL(2,Z) S-duality symmetry of the type II B string theory.\\n</td>\n",
       "      <td>2007-05-23</td>\n",
       "      <td>may</td>\n",
       "      <td>2007</td>\n",
       "      <td>0.065889</td>\n",
       "    </tr>\n",
       "  </tbody>\n",
       "</table>\n",
       "</div>"
      ],
      "text/plain": [
       "     index  Unnamed: 0  \\\n",
       "0  762270   762270       \n",
       "1  1817950  1817950      \n",
       "2  1687884  1687884      \n",
       "3  466738   466738       \n",
       "4  1825888  1825888      \n",
       "5  1784833  1784833      \n",
       "6  1569335  1569335      \n",
       "7  1666395  1666395      \n",
       "8  451738   451738       \n",
       "9  1719993  1719993      \n",
       "\n",
       "                                                                                                                                                                                                                                                                                                                    authors  \\\n",
       "0  Pawan Kumar Srivastava, Swasti Arya, Santosh Kumar and Subhasis Ghosh                                                                                                                                                                                                                                                      \n",
       "1  Doracelly Hincapie, Juan Ospina                                                                                                                                                                                                                                                                                            \n",
       "2  Anirban Kundu, Soumitra Nandi, Jyoti Prasad Saha                                                                                                                                                                                                                                                                           \n",
       "3  Davood Momeni, Muhammad Raza, Ratbay Myrzakulov                                                                                                                                                                                                                                                                            \n",
       "4  Ch. C. Moustakidis and S. E. Massen                                                                                                                                                                                                                                                                                        \n",
       "5  David Bessis, Ruth Corran                                                                                                                                                                                                                                                                                                  \n",
       "6  V. N. Krivoruchko, E. A. Koshina (Donetsk Physics and Technology\\n  Institute, Donetsk, Ukraine)                                                                                                                                                                                                                           \n",
       "7  X. Calmet (Munich U.)                                                                                                                                                                                                                                                                                                      \n",
       "8  V.D. Efros (1,2), P. von Neumann-Cosel (3), A. Richter (2,3) ((1)\\n  National Research Center \"Kurchatov Institute\", Russia, (2) European Centre\\n  for Theoretical Studies in Nuclear Physics and Related Areas (ECT), Trento,\\n  Italy, (3) Institut f\\\"ur Kernphysik, Technische Universit\\\"at Darmstadt,\\n  Germany)   \n",
       "9  Jen-Chi Lee                                                                                                                                                                                                                                                                                                                \n",
       "\n",
       "                                                                                                                 title  \\\n",
       "0  Relativistic nature of carriers: Origin of electron-hole conduction\\n  asymmetry in m o n o l a ye r gr a p h e n e   \n",
       "1  Stochastic S-I-S-O-E Epidemic Model                                                                                   \n",
       "2  New Physics in b --> s bar(s) s Decay                                                                                 \n",
       "3  Analytical coexistence of s, p, s + p phases of a holographic\\n  superconductor                                       \n",
       "4  One-body density matrix and momentum distribution in s-p and s-d shell\\n  nuclei                                      \n",
       "5  Non-crossing partitions of type (e,e,r)                                                                               \n",
       "6  Critical current of a S/F-I-N/S tunnel structure in a parallel magnetic\\n  field                                      \n",
       "7  One-Particle Inclusive B sub s -> D bar sub s X Decays                                                                \n",
       "8  Properties of the first excited state of 9Be derived from (gamma,n) and\\n  (e,e') reactions                           \n",
       "9  T-dual R-R zero-norm states, D-branes and S-duality of type II string\\n  theory                                       \n",
       "\n",
       "                            categories  \\\n",
       "0  Mesoscale and Nanoscale Physics       \n",
       "1  NaN                                   \n",
       "2  High Energy Physics - Phenomenology   \n",
       "3  High Energy Physics - Theory          \n",
       "4  Nuclear Theory                        \n",
       "5  Group Theory                          \n",
       "6  Superconductivity                     \n",
       "7  High Energy Physics - Phenomenology   \n",
       "8  NaN                                   \n",
       "9  High Energy Physics - Theory          \n",
       "\n",
       "                                                                                                                                                                                                                                                                                                                                                                                                                                                                                                                                                                                                                                                                                                                                                                                                                                                                                                                                                                                                                                                                                                                                                                                                                                                                                                                                                   abstract  \\\n",
       "0    We report electron-hole conduction asymmetry in monolayer graphene.\\nPreviously, it has been claimed that electron-hole conduction asymmetry is due\\nto imbalanced carrier injection from metallic electrodes. Here, we show that\\nmetallic contacts have negligible impact on asymmetric conduction and may be\\neither sample or device-dependent phenomena. Electrical measurements show that\\nmonolayer graphene based devices exhibit suppressed electron conduction\\ncompared to hole conduction due to the presence of donor impurities which\\nscatter electrons more efficiently. This can be explained by the relativistic\\nnature of charge carriers in a graphene monolayer and can be reconciled with\\nthe fact that in a relativistic quantum system transport cross section does\\ndepend on the sign of scattering potential in contrast to a nonrelativistic\\nquantum system.\\n                                                                                                                                                                                                                                                                                                                                                                                                                                                            \n",
       "1    An stochastic SIS epidemic model in an open environment is presented.\\n                                                                                                                                                                                                                                                                                                                                                                                                                                                                                                                                                                                                                                                                                                                                                                                                                                                                                                                                                                                                                                                                                                                                                                                                                                                                                  \n",
       "2    We perform a model-independent analysis of the data on branching ratios and\\nCP asymmetries of $B\\to\\phi K$ and $B\\to\\eta^{(')} K^{(*)}$ modes. The present\\ndata is encouraging to look for indirect evidences of physics beyond the\\nStandard Model. We investigate the parameter spaces for different possible\\nLorentz structures of the new physics four-Fermi interaction. It is shown that\\nif one takes the data at $1\\sigma$ confidence level, only one particular\\nLorentz structure is allowed. Possible consequences for the $B_s$ system are\\nalso discussed.\\n                                                                                                                                                                                                                                                                                                                                                                                                                                                                                                                                                                                                                                                                                                                                                                             \n",
       "3    We analytically study the critical phase of a mixed system of the U(2) gauge\\nfields and global symmetry on the boundary using gauge/gravity. A variational\\nminimization problem has been formulated. The numerical results pertinently\\nshow that there exists a minimum chemical potential in which both scalar\\n(s-wave) and vector (p-wave) condensates exist in a mixture, as well as in the\\ndistinct s- and p-phases. This result is obtained by breaking the symmetry into\\nU(1) symmetry and rotational symmetry. While the analytical solutions of\\ncondensates and charge densities are achieved in both cases: the balanced and\\nunbalanced holographic superconductors. This is the first an- alytical study of\\nthe coexistence of two modes of the superconductivity with different order\\nparameters. The realistic model consists of two different phases of the\\nsuperfluidity in Helium.\\n                                                                                                                                                                                                                                                                                                                                                                                                                                           \n",
       "4    Analytical expressions of the one- and two- body terms in the cluster\\nexpansion of the one-body density matrix and momentum distribution of the s-p\\nand s-d shell nuclei with N=Z are derived. They depend on the harmonic\\noscillator parameter b and the parameter $\\beta$ which originates from the\\nJastrow correlation function. These parameters have been determined by least\\nsquares fit to the experimental charge form factors. The inclusion of\\nshort-range correlations increases the high momentum component of the momentum\\ndistribution, $n({\\bf k})$ for all nuclei we have considered while there is an\\nA dependence of $n({\\bf k})$ both at small values of k and the high momentum\\ncomponent. The A dependence of the high momentum component of $n({\\bf k})$\\nbecomes quite small when the nuclei $^{24}$Mg, $^{28}$Si and $^{32}$S are\\ntreated as 1d-2s shell nuclei having the occupation probability of the 2s-state\\nas an extra free parameter in the fit to the form factors.\\n                                                                                                                                                                                                                                                                                                                                        \n",
       "5    We investigate a new lattice of generalised non-crossing partitions,\\nconstructed using the geometry of the complex reflection group $G(e,e,r)$. For\\nthe particular case $e=2$ (resp. $r=2$), our lattice coincides with the lattice\\nof simple elements for the type $D_n$ (resp. $I_2(e)$) dual braid monoid. Using\\nthis lattice, we construct a Garside structure for the braid group $B(e,e,r)$.\\nAs a corollary, one may solve the word and conjugacy problems in this group.\\n                                                                                                                                                                                                                                                                                                                                                                                                                                                                                                                                                                                                                                                                                                                                                                                                                                                                   \n",
       "6    We study the critical current of a S/F-I-N/S tunnel structure - a proximity\\ncoupled superconductor (S) with thin ferromagnetic (F) and nonmagnetic (N)\\nmetals separated by an insulating (I) barrier - in an external magnetic field.\\nThe dependence of the current on exchange and external magnetic fields, and\\ntheir mutual orientation is analyzed within the microscopic theory of the\\nproximity effect. We find that the S/F-I-N/S contact with strong magnetism of\\nthe F layer is in a ground state with superconducting phase difference on the\\nelectrodes about pi/2. Low external magnetic field reverses the critical\\ncurrent sign of such a contact (a \\pi-state of the junction) for parallel field\\norientation. For antiparallel alignment the dc Josephson current behavior is\\nessentially nonmonotonic: by increasing an external magnetic field the current\\npasses though a maximum, while the 0-phase state is held, and then the junction\\ngets into the \\pi-phase state with an opposite current direction. We\\ndemonstrate that the hybrid S/F-I-N/S metal structures possess new effects of\\nthe superconductivity in the presence of spin splitting, while an experimental\\nset-up seems to be feasible and it may lead to further understanding of\\nsuperconducting proximity effects in ferromagnetic materials.\\n   \n",
       "7    We discuss one-particle inclusive B sub s -> D bar sub s X decays using a QCD\\nbased method already applied to B -> D bar X. A link between the right charm\\nnon-perturbative form factors of the semi-leptonic decays and those of the\\nnon-leptonic decays is established. Our results are compatible with current\\nexperimental knowledge.\\n                                                                                                                                                                                                                                                                                                                                                                                                                                                                                                                                                                                                                                                                                                                                                                                                                                                                                                                                                                                                          \n",
       "8    Properties of the first excited state of the nucleus 9Be are discussed based\\non recent (e,e') and (gamma,n) experiments. The parameters of an R-matrix\\nanalysis of different data sets are consistent with a resonance rather than a\\nvirtual state predicted by some model calculations. The energy and the width of\\nthe resonance are deduced. Their values are rather similar for all data sets,\\nand the energy proves to be negative. It is argued that the disagreement\\nbetween the extracted B(E1) values may stem from different ways of integration\\nof the resonance. If corrected, fair agreement between the (e,e') and one of\\nthe (gamma,n) data sets is found. A recent (gamma,n) experiment at the HIgS\\nfacility exhibits larger cross sections close to the neutron threshold which\\nremain to be explained.\\n                                                                                                                                                                                                                                                                                                                                                                                                                                                                                                                     \n",
       "9    We calculate the R-R zero-norm states of type II string spectrum. To fit\\nthese states into the right symmetry charge parameters of the gauge\\ntransformations of the R-R tensor forms, one is forced to T-dualize some type I\\nopen string space-time coordinates and thus to introduce D-branes into the\\ntheory. We also demonstrate that the constant T-dual R-R 0-form zero-norm\\nstate, together with the NS-NS singlet zero-norm state are responsible for the\\nSL(2,Z) S-duality symmetry of the type II B string theory.\\n                                                                                                                                                                                                                                                                                                                                                                                                                                                                                                                                                                                                                                                                                                                                                                                                                      \n",
       "\n",
       "  update_date     month  year  distances  \n",
       "0  2017-12-20  december  2017  0.038026   \n",
       "1  2007-05-23  may       2007  0.052066   \n",
       "2  2009-11-11  november  2009  0.053594   \n",
       "3  2015-04-07  april     2015  0.054373   \n",
       "4  2009-11-06  november  2009  0.060876   \n",
       "5  2007-05-23  may       2007  0.061086   \n",
       "6  2007-05-23  may       2007  0.061772   \n",
       "7  2009-10-31  october   2009  0.062935   \n",
       "8  2014-03-03  march     2014  0.065289   \n",
       "9  2007-05-23  may       2007  0.065889   "
      ]
     },
     "execution_count": 86,
     "metadata": {},
     "output_type": "execute_result"
    }
   ],
   "source": [
    "results.sort_values(by='distances')[:10]"
   ]
  },
  {
   "cell_type": "code",
   "execution_count": 69,
   "metadata": {},
   "outputs": [
    {
     "data": {
      "text/plain": [
       "0.038025856"
      ]
     },
     "execution_count": 69,
     "metadata": {},
     "output_type": "execute_result"
    }
   ],
   "source": [
    "min(distances_title)"
   ]
  },
  {
   "cell_type": "code",
   "execution_count": 70,
   "metadata": {},
   "outputs": [
    {
     "data": {
      "text/plain": [
       "0.096007824"
      ]
     },
     "execution_count": 70,
     "metadata": {},
     "output_type": "execute_result"
    }
   ],
   "source": [
    "min(distances_author)"
   ]
  },
  {
   "cell_type": "code",
   "execution_count": 71,
   "metadata": {},
   "outputs": [
    {
     "data": {
      "text/plain": [
       "0.20117497"
      ]
     },
     "execution_count": 71,
     "metadata": {},
     "output_type": "execute_result"
    }
   ],
   "source": [
    "min(distances_categories)"
   ]
  },
  {
   "cell_type": "code",
   "execution_count": 72,
   "metadata": {},
   "outputs": [
    {
     "name": "stdout",
     "output_type": "stream",
     "text": [
      "Searched 1879555 records in 0.2094 seconds \n",
      "\n",
      "0.04\n",
      "Relativistic nature of carriers: Origin of electron-hole conduction\n",
      "  asymmetry in m o n o l a ye r gr a p h e n e\n",
      "0.05\n",
      "Stochastic S-I-S-O-E Epidemic Model\n",
      "0.05\n",
      "New Physics in b --> s bar(s) s Decay\n",
      "0.05\n",
      "Analytical coexistence of s, p, s + p phases of a holographic\n",
      "  superconductor\n",
      "0.06\n",
      "One-body density matrix and momentum distribution in s-p and s-d shell\n",
      "  nuclei\n",
      "0.06\n",
      "Non-crossing partitions of type (e,e,r)\n",
      "0.06\n",
      "Critical current of a S/F-I-N/S tunnel structure in a parallel magnetic\n",
      "  field\n",
      "0.06\n",
      "One-Particle Inclusive B sub s -> D bar sub s X Decays\n",
      "0.07\n",
      "Properties of the first excited state of 9Be derived from (gamma,n) and\n",
      "  (e,e') reactions\n",
      "0.07\n",
      "T-dual R-R zero-norm states, D-branes and S-duality of type II string\n",
      "  theory\n"
     ]
    }
   ],
   "source": [
    "print(f'Searched {df.shape[0]} records in {round(t1-t0,4) } seconds \\n')\n",
    "for i,j in zip(ids_title,distances_title):\n",
    "  print(round(j,2))\n",
    "  print(df.title.values[i])"
   ]
  },
  {
   "cell_type": "code",
   "execution_count": 77,
   "metadata": {},
   "outputs": [
    {
     "name": "stdout",
     "output_type": "stream",
     "text": [
      "0.1\n",
      "Optical Flow Techniques for Facial Expression Analysis -- a Practical\n",
      "  Evaluation Study\n",
      "0.1\n",
      "Automatic Cause Detection of Performance Problems in Web Applications\n",
      "0.1\n",
      "Coexistence of OFDM and FBMC for Underlay D2D Communication in 5G\n",
      "  Networks\n",
      "0.11\n",
      "Generative Art Using Neural Visual Grammars and Dual Encoders\n",
      "0.11\n",
      "Disorder-perturbed Landau levels in high electron mobility epitaxial\n",
      "  graphene\n",
      "0.11\n",
      "Prediction of the thermophysical properties of molten salt fast reactor\n",
      "  fuel from first-principles\n",
      "0.11\n",
      "A Nonparametric Bayesian Design for Drug Combination Cancer Trials\n",
      "0.11\n",
      "Transfer Learning Approach for Detecting Psychological Distress in\n",
      "  Brexit Tweets\n",
      "0.11\n",
      "Evolving Intelligent Reflector Surface towards 6G for Public Health:\n",
      "  Application in Airborne Virus Detection\n",
      "0.11\n",
      "Deriving Good LDPC Convolutional Codes from LDPC Block Codes\n"
     ]
    }
   ],
   "source": [
    "for i,j in zip(ids_author,distances_author):\n",
    "  print(round(j,2))\n",
    "  print(df.title.values[i])"
   ]
  },
  {
   "cell_type": "code",
   "execution_count": 78,
   "metadata": {},
   "outputs": [
    {
     "name": "stdout",
     "output_type": "stream",
     "text": [
      "0.2\n",
      "Reply to Comment on \"Chiral suppression of scalar glueball decay\"\n",
      "0.2\n",
      "A new, very massive modular Liquid Argon Imaging Chamber to detect low\n",
      "  energy off-axis neutrinos from the CNGS beam. (Project MODULAr)\n",
      "0.2\n",
      "Higgs and Z' Phenomenology in B-L extension of the Standard Model at LHC\n",
      "0.2\n",
      "Consistency checks of different pion-pion scattering data sets using\n",
      "  forward dispersion relations\n",
      "0.2\n",
      "Fermionic states in pure 4D deconstruction\n",
      "0.2\n",
      "B->X_s l^+l^- in the MSSM at NNLO\n",
      "0.2\n",
      "The Higgs sector in the Next-to-MSSM\n",
      "0.2\n",
      "Radiative generation of R-parity violating Yukawa-like interactions from\n",
      "  supersymmetry breaking\n",
      "0.2\n",
      "Probing Lepton Flavor Violation Signal Induced by R-violating Minimal\n",
      "  Supersymmetric Standard Model at a Linear Collider\n",
      "0.2\n",
      "Signal for space-time noncommutativity: the Z -> gamma gamma decay in\n",
      "  the renormalizable gauge sector of the theta-expanded NCSM\n"
     ]
    }
   ],
   "source": [
    "for i,j in zip(ids_categories,distances_categories):\n",
    "  print(round(j,2))\n",
    "  print(df.title.values[i])"
   ]
  },
  {
   "cell_type": "code",
   "execution_count": null,
   "metadata": {},
   "outputs": [],
   "source": [
    "\n",
    "def time_important(document): \n",
    "    influence = ['influential', 'important', 'pivotal', 'significant', 'leading', 'noteworthy']\n",
    "    time = ['latest', 'recent', 'newest', 'current']\n",
    "    text = \"\"\n",
    "    for token in document: \n",
    "        if token is not in influence or time: "
   ]
  }
 ],
 "metadata": {
  "colab": {
   "collapsed_sections": [],
   "name": "Smart Search.ipynb",
   "provenance": []
  },
  "kernelspec": {
   "display_name": "Python 3",
   "language": "python",
   "name": "python3"
  },
  "language_info": {
   "codemirror_mode": {
    "name": "ipython",
    "version": 3
   },
   "file_extension": ".py",
   "mimetype": "text/x-python",
   "name": "python",
   "nbconvert_exporter": "python",
   "pygments_lexer": "ipython3",
   "version": "3.8.5"
  }
 },
 "nbformat": 4,
 "nbformat_minor": 1
}
